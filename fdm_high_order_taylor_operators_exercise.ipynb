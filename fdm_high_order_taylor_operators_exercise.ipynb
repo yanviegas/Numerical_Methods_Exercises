{
  "nbformat": 4,
  "nbformat_minor": 0,
  "metadata": {
    "colab": {
      "name": "fdm_high_order_taylor_operators_exercise.ipynb",
      "provenance": [],
      "collapsed_sections": [],
      "authorship_tag": "ABX9TyMOM9c0PpbyybLK1aBGHiPJ",
      "include_colab_link": true
    },
    "kernelspec": {
      "name": "python3",
      "display_name": "Python 3"
    }
  },
  "cells": [
    {
      "cell_type": "markdown",
      "metadata": {
        "id": "view-in-github",
        "colab_type": "text"
      },
      "source": [
        "<a href=\"https://colab.research.google.com/github/yanviegas/Numerical_Methods_Exercises/blob/main/fdm_high_order_taylor_operators_exercise.ipynb\" target=\"_parent\"><img src=\"https://colab.research.google.com/assets/colab-badge.svg\" alt=\"Open In Colab\"/></a>"
      ]
    },
    {
      "cell_type": "markdown",
      "metadata": {
        "id": "qFRizL1GvZRX"
      },
      "source": [
        "#Finite-Difference Method - High-Order Taylor Operators\n",
        "##Coursera's Course: Computers, Waves, Simulations (by Heiner Igel)\n",
        "##Exercised by Yan Viegas"
      ]
    },
    {
      "cell_type": "markdown",
      "metadata": {
        "id": "4y-MrGWLvycg"
      },
      "source": [
        "#### This exercise covers the following aspects\n",
        "\n",
        "* Learn how to define high-order central finite-difference operators\n",
        "* Investigate the behaviour of the operators with increasing length"
      ]
    },
    {
      "cell_type": "markdown",
      "metadata": {
        "id": "u1mAScL_v7-n"
      },
      "source": [
        "#### Basic Equations\n",
        "\n",
        "The Taylor expansion of $f(x + dx)$ around $x$ is defined as \n",
        "\n",
        "$$\n",
        "f(x+dx)=\\sum_{n=0}^\\infty \\frac{f^{(n)}(x)}{n!}dx^{n}  \n",
        "$$\n",
        "\n",
        "\n",
        "Finite-difference operators can be calculated by seeking weights (here: $a$, $b$, $c$) with which function values have to be multiplied to obtain an interpolation or a derivative. Example:\n",
        "\n",
        "$$\n",
        "\\begin{align}\n",
        "a ~ f(x + dx) & \\ = \\ a ~ \\left[ ~  f(x) +  f^{'} (x) dx +  \\frac{1}{2!}  f^{''} (x) dx^2   + \\dotsc  ~ \\right] \\\\\n",
        "b ~ f(x) & \\  = \\ b ~ \\left[ ~  f(x)  ~ \\right] \\\\\n",
        "c ~ f(x - dx) & \\ = \\ c ~ \\left[ ~  f(x) -  f^{'} (x) dx +  \\frac{1}{2!}  f^{''} (x) dx^2   - \\dotsc  ~ \\right]\n",
        "\\end{align}\n",
        "$$\n",
        "\n",
        "This can  be expressed in matrix form by comparing coefficients, here seeking a 2nd derivative\n",
        "\n",
        "$$\n",
        "\\begin{align}\n",
        "&a  ~~+~~            ~~~~b           &+~~  c & = & 0 \\\\\n",
        "&a  ~~\\phantom{+}~~ \\phantom{b}  &-~~  c & = & 0 \\\\\n",
        "&a  ~~\\phantom{+}~~ \\phantom{b}  &+~~  c & = & \\frac{2!}{\\mathrm{d}x^2}\n",
        "\\end{align}\n",
        "$$\n",
        "\n",
        "which leads to \n",
        "\n",
        "$$\n",
        "\\begin{pmatrix}\n",
        "  1 & 1 & 1 \\\\\n",
        "  1 & 0 & -1 \\\\\n",
        "  1 & 0 & 1\n",
        " \\end{pmatrix}\n",
        "\\begin{pmatrix}\n",
        "  a\\\\\n",
        " b \\\\\n",
        " c\n",
        " \\end{pmatrix}\n",
        " =\n",
        " \\begin{pmatrix}\n",
        "  0\\\\\n",
        " 0 \\\\\n",
        " \\frac{2!}{dx^2}\n",
        " \\end{pmatrix}\n",
        "$$\n",
        "\n",
        "and using matrix inversion we obtain \n",
        "\n",
        "$$\n",
        "\\begin{pmatrix}\n",
        "a \\\\\n",
        "b\\\\\n",
        "c\n",
        "\\end{pmatrix}\n",
        "=\n",
        "\\begin{pmatrix}\n",
        "\\frac{1}{2 \\mathrm{d}x^2} \\\\\n",
        " - \\frac{2}{2 \\mathrm{d}x^2} \\\\\n",
        "  \\frac{1}{2 \\mathrm{d}x^2}\n",
        "\\end{pmatrix}\n",
        "$$\n",
        "\n",
        "This is the the well known 3-point operator for the 2nd derivative. This can easily be generalized to higher point operators and higher order derivatives. Below you will find a routine that initializes the system matrix and solves for the Taylor operator."
      ]
    },
    {
      "cell_type": "markdown",
      "metadata": {
        "id": "HfpEDDEbwQ1Y"
      },
      "source": [
        "#### Calculating the Taylor operator\n",
        "\n",
        "The subroutine `central_difference_coefficients()` initializes the system matrix and solves for the difference weights assuming $dx=1$. It calculates the centered differences using an arbitrary number of coefficients, also for higher derivatives. The weights are defined at $x\\pm i dx$ and $i=0,..,(nop-1)/2$, where $nop$ is the length of the operator. Careful! Because it is centered $nop$ has to be an odd number (3,5,...)!\n",
        "\n",
        "It returns a central finite difference stencil (a vector of length $nop$)  for the `n`th derivative."
      ]
    },
    {
      "cell_type": "code",
      "metadata": {
        "id": "hKPu12OpwXPr"
      },
      "source": [
        "# Import libaries\n",
        "import math\n",
        "import numpy as np\n",
        "import matplotlib.pyplot as plt"
      ],
      "execution_count": 1,
      "outputs": []
    },
    {
      "cell_type": "code",
      "metadata": {
        "id": "oDCzg1xjwqA1"
      },
      "source": [
        "# Define function to calculate Taylor operators\n",
        "def central_difference_coefficients(nop, n):\n",
        "    \"\"\"\n",
        "    Calculate the central finite difference stencil for an arbitrary number\n",
        "    of points and an arbitrary order derivative.\n",
        "    \n",
        "    :param nop: The number of points for the stencil. Must be\n",
        "        an odd number.\n",
        "    :param n: The derivative order. Must be a positive number.\n",
        "    \"\"\"\n",
        "    m = np.zeros((nop, nop))\n",
        "    for i in range(nop):\n",
        "        for j in range(nop):\n",
        "            dx = j - nop // 2\n",
        "            m[i, j] = dx ** i\n",
        "    \n",
        "    s = np.zeros(nop)\n",
        "    s[n] = math.factorial(n)\n",
        "    \n",
        "    # The following statement return oper = inv(m) s\n",
        "    oper = np.linalg.solve(m, s)\n",
        "    # Calculate operator\n",
        "    return oper"
      ],
      "execution_count": 2,
      "outputs": []
    },
    {
      "cell_type": "markdown",
      "metadata": {
        "id": "XoXeM07uwslt"
      },
      "source": [
        "#### Plot Taylor operators\n",
        "\n",
        "Investigate graphically the Taylor operators. Increase $nop$ for the first $n=1$ or higher order derivatives. Discuss the results and try to understand the interpolation operator (derivative order $n=0$)."
      ]
    },
    {
      "cell_type": "code",
      "metadata": {
        "id": "6WOwcM__wx9g"
      },
      "source": [
        "# Calculate and plot Taylor operator\n",
        "\n",
        "# Give length of operator (odd)\n",
        "nop = 25\n",
        "# Give order of derivative (0 - interpolation, 1 - first derivative, 2 - second derivative)\n",
        "n = 1\n",
        "\n",
        "# Get operator from routine 'central_difference_coefficients'\n",
        "oper = central_difference_coefficients(nop, n)"
      ],
      "execution_count": 3,
      "outputs": []
    },
    {
      "cell_type": "code",
      "metadata": {
        "id": "gCtBx8PWw2Cx",
        "outputId": "234d0361-c3ea-451a-8234-32dd192f7e7d",
        "colab": {
          "base_uri": "https://localhost:8080/",
          "height": 295
        }
      },
      "source": [
        "# Plot operator\n",
        "x = np.linspace(-(nop - 1) / 2, (nop - 1) / 2, nop)\n",
        "\n",
        "# Simple plot with operator\n",
        "plt.figure(figsize=(10, 4))\n",
        "plt.plot(x, oper,lw=2,color='blue')\n",
        "plt.plot(x, oper,lw=2,marker='o',color='blue')\n",
        "plt.plot(0, 0,lw=2,marker='o',color='red')\n",
        "#plt.plot (x, nder5-ader, label=\"Difference\", lw=2, ls=\":\")\n",
        "plt.title(\"Taylor Operator with nop =  %i \" % nop )\n",
        "plt.xlabel('x')\n",
        "plt.ylabel('Operator')\n",
        "plt.grid()\n",
        "plt.show()"
      ],
      "execution_count": 4,
      "outputs": [
        {
          "output_type": "display_data",
          "data": {
            "image/png": "[encoded data removed]",
            "text/plain": [
              "<Figure size 720x288 with 1 Axes>"
            ]
          },
          "metadata": {
            "tags": [],
            "needs_background": "light"
          }
        }
      ]
    },
    {
      "cell_type": "markdown",
      "metadata": {
        "id": "9Tsq486kw_1Z"
      },
      "source": [
        "#### Conclusions\n",
        "* The Taylor operator weights decrease rapidly with distance from the central point;\n",
        "* In practice often 4th order operators are used to calculate space derivatives."
      ]
    }
  ]
}